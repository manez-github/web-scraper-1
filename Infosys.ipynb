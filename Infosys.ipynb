{
 "cells": [
  {
   "cell_type": "code",
   "execution_count": 25,
   "id": "c9f103da-d6be-45a1-905c-a4632537b9cb",
   "metadata": {},
   "outputs": [],
   "source": [
    "from bs4 import BeautifulSoup\n",
    "import requests\n",
    "import time"
   ]
  },
  {
   "cell_type": "code",
   "execution_count": 26,
   "id": "208df7a5-5eab-4a7e-94b2-16f433aa22e9",
   "metadata": {},
   "outputs": [],
   "source": [
    "url_nse = \"https://www.google.com/finance/quote/INFY:NSE?hl=en\""
   ]
  },
  {
   "cell_type": "code",
   "execution_count": 47,
   "id": "7ae60c57-7564-457f-a7e7-65020bee933c",
   "metadata": {},
   "outputs": [],
   "source": [
    "company_symbol = 'INFY'\n",
    "exchange = 'NSE' # bombay stock exchange(BOM) or National Stock Exchange(NSE)\n",
    "url = f'https://www.google.com/finance/quote/{company_symbol}:{exchange}?hl=en'"
   ]
  },
  {
   "cell_type": "code",
   "execution_count": 48,
   "id": "8285a388-5d25-4577-998a-3cba70ae56c5",
   "metadata": {},
   "outputs": [
    {
     "name": "stdout",
     "output_type": "stream",
     "text": [
      "<Response [200]>\n"
     ]
    }
   ],
   "source": [
    "r = requests.get(url)\n",
    "print(r)"
   ]
  },
  {
   "cell_type": "code",
   "execution_count": 49,
   "id": "3b9820f1-4fef-4aa1-bf56-58d680543838",
   "metadata": {},
   "outputs": [],
   "source": [
    "soup = BeautifulSoup(r.text, \"html.parser\")"
   ]
  },
  {
   "cell_type": "code",
   "execution_count": null,
   "id": "be1a8060-0d4f-4b71-b2ab-460ad2bd781f",
   "metadata": {},
   "outputs": [],
   "source": [
    "soup"
   ]
  },
  {
   "cell_type": "code",
   "execution_count": 50,
   "id": "b90c0938-b11d-445c-bfa6-2d012329c22a",
   "metadata": {},
   "outputs": [],
   "source": [
    "class_nse = \"YMlKec fxKbKc\""
   ]
  },
  {
   "cell_type": "code",
   "execution_count": 51,
   "id": "ef2115d3-f056-4f8b-a1ab-9cd3aead6673",
   "metadata": {},
   "outputs": [],
   "source": [
    "price = soup.find(class_ = class_nse).text"
   ]
  },
  {
   "cell_type": "code",
   "execution_count": 52,
   "id": "4288d319-01d5-4c5b-b5fb-665f8ee30e63",
   "metadata": {},
   "outputs": [
    {
     "name": "stdout",
     "output_type": "stream",
     "text": [
      "₹1,526.00\n"
     ]
    }
   ],
   "source": [
    "print(price)"
   ]
  },
  {
   "cell_type": "code",
   "execution_count": 53,
   "id": "199ed6e0-6e3a-4f71-8054-438be5837672",
   "metadata": {},
   "outputs": [
    {
     "name": "stdout",
     "output_type": "stream",
     "text": [
      "1,526.00\n"
     ]
    }
   ],
   "source": [
    "price = price.strip()[1:]\n",
    "print(price)"
   ]
  },
  {
   "cell_type": "code",
   "execution_count": 54,
   "id": "9dfcae37-a1c5-4714-a2e0-1247c7741aaf",
   "metadata": {},
   "outputs": [
    {
     "name": "stdout",
     "output_type": "stream",
     "text": [
      "1526.00\n"
     ]
    }
   ],
   "source": [
    "price = price.replace(\",\", \"\")\n",
    "print(price)"
   ]
  },
  {
   "cell_type": "code",
   "execution_count": 55,
   "id": "7a478a57-ddf3-468b-abbf-7e2579126b0c",
   "metadata": {},
   "outputs": [
    {
     "name": "stdout",
     "output_type": "stream",
     "text": [
      "1526.0\n"
     ]
    }
   ],
   "source": [
    "price = float(price)\n",
    "print(price)"
   ]
  },
  {
   "cell_type": "code",
   "execution_count": null,
   "id": "79a67caa-1959-4dd9-ab10-f0caf15e5ccf",
   "metadata": {},
   "outputs": [],
   "source": [
    "while True:\n",
    "    print(price)\n",
    "    time.sleep(15)"
   ]
  },
  {
   "cell_type": "code",
   "execution_count": null,
   "id": "dc58e4bb-9ddd-48ba-b954-f16b680084b7",
   "metadata": {},
   "outputs": [],
   "source": []
  }
 ],
 "metadata": {
  "kernelspec": {
   "display_name": "Python 3 (ipykernel)",
   "language": "python",
   "name": "python3"
  },
  "language_info": {
   "codemirror_mode": {
    "name": "ipython",
    "version": 3
   },
   "file_extension": ".py",
   "mimetype": "text/x-python",
   "name": "python",
   "nbconvert_exporter": "python",
   "pygments_lexer": "ipython3",
   "version": "3.8.0"
  }
 },
 "nbformat": 4,
 "nbformat_minor": 5
}
